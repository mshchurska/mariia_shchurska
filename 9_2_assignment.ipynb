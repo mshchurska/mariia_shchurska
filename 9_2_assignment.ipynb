{
  "cells": [
    {
      "cell_type": "markdown",
      "metadata": {
        "id": "view-in-github",
        "colab_type": "text"
      },
      "source": [
        "<a href=\"https://colab.research.google.com/github/mshchurska/mariia_shchurska/blob/main/9_2_assignment.ipynb\" target=\"_parent\"><img src=\"https://colab.research.google.com/assets/colab-badge.svg\" alt=\"Open In Colab\"/></a>"
      ]
    },
    {
      "cell_type": "markdown",
      "metadata": {
        "id": "oY7M_WqQy7zz"
      },
      "source": [
        "# Assignment 9.2\n",
        "\n",
        "> Replace all TODOs with your code. Do not change any other code."
      ]
    },
    {
      "cell_type": "code",
      "execution_count": 1,
      "metadata": {
        "id": "mnm_mM7I9Xx0"
      },
      "outputs": [],
      "source": [
        "# Do not edit this cell\n",
        "\n",
        "from typing import List"
      ]
    },
    {
      "cell_type": "markdown",
      "metadata": {
        "id": "Jz8SYjAz0N8D"
      },
      "source": [
        "## Descriptive statistics\n",
        "\n",
        "In this assignment, we will write the functions to calculate the basic statistics from scratch, not using numpy."
      ]
    },
    {
      "cell_type": "markdown",
      "metadata": {
        "id": "IHwd1Zzby7z1"
      },
      "source": [
        "### Task 1\n",
        "\n",
        "Let's start simple: write a function `mean` that calculates the average of the list.\n",
        "\n",
        "$$\\mu = \\frac{{\\sum_{i=1}^n x_i}}{{n}}$$"
      ]
    },
    {
      "cell_type": "code",
      "execution_count": 3,
      "metadata": {
        "id": "UfB0dnXHy7z2",
        "tags": [
          "task_1"
        ]
      },
      "outputs": [],
      "source": [
        "def mean(li: List[float]) -> float:\n",
        "  return sum(li) / len(li)\n",
        "  pass\n",
        "\n",
        "\n",
        "assert mean([1., 2., 3.]) == 2.\n",
        "assert mean([1., 1., 2., 0.]) == 1."
      ]
    },
    {
      "cell_type": "markdown",
      "metadata": {
        "id": "lL-ELM-Ay7z2"
      },
      "source": [
        "### Task 2\n",
        "\n",
        "Now let's calculate variance (dispersion). You may use the `mean` function implemented before.\n",
        "\n",
        "$$V = \\frac{{\\sum_{i=1}^n (x_i - \\mu)^2}}{{n}}$$"
      ]
    },
    {
      "cell_type": "code",
      "execution_count": 8,
      "metadata": {
        "id": "cibiSsjry7z3",
        "tags": [
          "task_2"
        ]
      },
      "outputs": [],
      "source": [
        "def variance(li: List[float]) -> float:\n",
        "    m = mean(li)\n",
        "    return sum((x - m) ** 2 for x in li) / len(li)\n",
        "\n",
        "\n",
        "assert variance([1., 1., 1.]) == 0.\n",
        "assert variance([1., 2., 3., 4.]) == 1.25"
      ]
    },
    {
      "cell_type": "markdown",
      "metadata": {
        "id": "YSAUJe1u9XyM"
      },
      "source": [
        "### Task 3\n",
        "\n",
        "The standard deviation is easy once you get the variance:\n",
        "\n",
        "$$\\sigma = \\sqrt{V}$$"
      ]
    },
    {
      "cell_type": "code",
      "execution_count": 7,
      "metadata": {
        "tags": [
          "task_3"
        ],
        "id": "8cr3iHPR9XyO"
      },
      "outputs": [],
      "source": [
        "import math\n",
        "def std(li: List[float]) -> float:\n",
        "    return math.sqrt(variance(li))\n",
        "    pass\n",
        "\n",
        "\n",
        "assert std([1., 1., 1.]) == 0.\n",
        "assert std([1., 2., 3., 4.]) == 1.25**0.5"
      ]
    },
    {
      "cell_type": "markdown",
      "metadata": {
        "id": "2I481Gkj9XyR"
      },
      "source": [
        "### Task 4\n",
        "\n",
        "**Median**\n",
        "\n",
        "The median is the middle value in a sorted dataset. If the dataset has an odd number of values, the median is the value at the center. If the dataset has an even number of values, the median is the average of the two middle values."
      ]
    },
    {
      "cell_type": "code",
      "execution_count": 1,
      "metadata": {
        "tags": [
          "task_4"
        ],
        "id": "0BEoTR119XyT"
      },
      "outputs": [],
      "source": [
        "from typing import List\n",
        "\n",
        "def median(li: List[float]) -> float:\n",
        "    li_sorted = sorted(li)\n",
        "    n = len(li_sorted)\n",
        "    mid = n // 2\n",
        "\n",
        "    if n % 2 == 0:\n",
        "        return (li_sorted[mid - 1] + li_sorted[mid]) / 2\n",
        "    else:\n",
        "        return li_sorted[mid]\n",
        "\n",
        "    pass\n",
        "\n",
        "\n",
        "assert median([1., 1., 1.]) == 1.\n",
        "assert median([1., 4., 3., 2.]) == 2.5"
      ]
    },
    {
      "cell_type": "markdown",
      "metadata": {
        "id": "5DzFkKwx0VI5"
      },
      "source": [
        "## Measure performance\n",
        "\n",
        "Sometimes, apart from theoretical, algorithmic complexity, it's a good idea to compare the runtime of two algorithms empirically, i.e., run the code many times and time it.\n",
        "\n",
        "In Python's standard library, we have [timeit](https://docs.python.org/3/library/timeit.html) module that does exactly that.\n",
        "\n",
        "Let's compare the runtime of your implementations and numpy. Use the provided setup code:"
      ]
    },
    {
      "cell_type": "code",
      "execution_count": null,
      "metadata": {
        "id": "wlNX3Jyz9XyV"
      },
      "outputs": [],
      "source": [
        "# generate data for tests\n",
        "setup = '''\n",
        "import random\n",
        "import numpy as np\n",
        "\n",
        "arr = np.random.rand(10_000) * 100\n",
        "li = [random.random() * 100 for _ in range(10_000)]\n",
        "'''\n",
        "\n",
        "# pass your function to timeit module\n",
        "funcs = {\n",
        "    'mean': mean,\n",
        "    'variance': variance,\n",
        "    'std': std,\n",
        "    'median': median,\n",
        "}"
      ]
    },
    {
      "cell_type": "markdown",
      "metadata": {
        "id": "nP0LlORsy7z4"
      },
      "source": [
        "### Task 5\n",
        "\n",
        "Complete Python statements to compare your functions to numpy. Use `li` for your function and `arr` for numpy functions."
      ]
    },
    {
      "cell_type": "code",
      "execution_count": 10,
      "metadata": {
        "id": "RiIm_kUSy7z4",
        "tags": [
          "task_5"
        ],
        "colab": {
          "base_uri": "https://localhost:8080/"
        },
        "outputId": "f2dd9a4a-6027-4452-804c-3acac9565e96"
      },
      "outputs": [
        {
          "output_type": "stream",
          "name": "stdout",
          "text": [
            "stmt_mean_custom: 0.061557235000009314\n",
            "stmt_mean_np:  0.05780253400007496\n",
            "------------\n",
            "stmt_var_custom: 1.1428098079999245\n",
            "stmt_mean_np:  0.22380942200004483\n",
            "------------\n",
            "stmt_std_custom: 1.6852389819999871\n",
            "stmt_std_np:  0.3495626289999336\n",
            "------------\n",
            "stmt_median_custom:  0.13697437300004367\n",
            "stmt_median_np:  0.3911196669999981\n"
          ]
        }
      ],
      "source": [
        "stmt_mean_custom = 'mean(li)'\n",
        "stmt_mean_np = 'np.mean(arr)'\n",
        "\n",
        "stmt_var_custom = 'variance(li)'\n",
        "stmt_var_np = 'np.var(arr)'\n",
        "\n",
        "stmt_std_custom = 'std(li)'\n",
        "stmt_std_np = 'np.std(arr)'\n",
        "\n",
        "stmt_median_custom = 'median(li)'\n",
        "stmt_median_np = 'np.median(arr)'\n",
        "\n",
        "print(\"stmt_mean_custom:\", timeit(stmt_mean_custom, globals=globals(), number=10000))\n",
        "print(\"stmt_mean_np: \", timeit(stmt_mean_np, globals=globals(), number=10000))\n",
        "print('------------')\n",
        "print(\"stmt_var_custom:\", timeit(stmt_var_custom, globals=globals(), number=10000))\n",
        "print(\"stmt_mean_np: \", timeit(stmt_var_np, globals=globals(), number=10000))\n",
        "print('------------')\n",
        "print(\"stmt_std_custom:\", timeit(stmt_std_custom, globals=globals(), number=10000))\n",
        "print(\"stmt_std_np: \", timeit(stmt_std_np, globals=globals(), number=10000))\n",
        "print('------------')\n",
        "print(\"stmt_median_custom: \", timeit(stmt_median_custom, globals=globals(), number=10000))\n",
        "print(\"stmt_median_np: \", timeit(stmt_median_np, globals=globals(), number=10000))"
      ]
    },
    {
      "cell_type": "markdown",
      "metadata": {
        "id": "hU1yDEnzy7z4"
      },
      "source": [
        "### Task 6\n",
        "\n",
        "Measure average exec time of your statements with `timeit` module. As your submission, fill out the table with results (rounded to 2 decimal places)"
      ]
    },
    {
      "cell_type": "code",
      "source": [
        "import pandas as pd\n",
        "setup = \"import numpy as np\"\n",
        "funcs = globals()\n",
        "results = {\n",
        "    \"Func\": [\"mean\", \"var\", \"std\", \"median\"],\n",
        "    \"Custom\": [\n",
        "        round(timeit.timeit(stmt=\"mean(li)\", setup=setup, globals=funcs, number=10000), 2),\n",
        "        round(timeit.timeit(stmt=\"variance(li)\", setup=setup, globals=funcs, number=10000), 2),\n",
        "        round(timeit.timeit(stmt=\"std(li)\", setup=setup, globals=funcs, number=10000), 2),\n",
        "        round(timeit.timeit(stmt=\"median(li)\", setup=setup, globals=funcs, number=10000), 2),\n",
        "    ],\n",
        "    \"NumPy\": [\n",
        "        round(timeit.timeit(stmt=\"np.mean(arr)\", setup=setup, globals=funcs, number=10000), 2),\n",
        "        round(timeit.timeit(stmt=\"np.var(arr)\", setup=setup, globals=funcs, number=10000), 2),\n",
        "        round(timeit.timeit(stmt=\"np.std(arr)\", setup=setup, globals=funcs, number=10000), 2),\n",
        "        round(timeit.timeit(stmt=\"np.median(arr)\", setup=setup, globals=funcs, number=10000), 2),\n",
        "    ]\n",
        "}\n",
        "\n",
        "\n",
        "df = pd.DataFrame(results)\n",
        "print(df)"
      ],
      "metadata": {
        "colab": {
          "base_uri": "https://localhost:8080/"
        },
        "id": "t1fY8zee52zK",
        "outputId": "60644ce9-cbf9-4e34-c315-7fc5de4b334a"
      },
      "execution_count": 18,
      "outputs": [
        {
          "output_type": "stream",
          "name": "stdout",
          "text": [
            "     Func  Custom  NumPy\n",
            "0    mean    0.06   0.05\n",
            "1     var    1.13   0.25\n",
            "2     std    1.13   0.27\n",
            "3  median    0.07   0.25\n"
          ]
        }
      ]
    },
    {
      "cell_type": "markdown",
      "metadata": {
        "id": "NbbRIcyqy7z4"
      },
      "source": [
        "Time per 10000 executions, secs\n",
        "\n",
        "| Func       | Custom | Numpy |\n",
        "| ---------- | ------ | ----- |\n",
        "| mean       |        |       |\n",
        "| var        |        |       |\n",
        "| std        |        |       |\n",
        "| median     |        |       |"
      ]
    }
  ],
  "metadata": {
    "colab": {
      "provenance": [],
      "toc_visible": true,
      "include_colab_link": true
    },
    "kernelspec": {
      "display_name": "venv",
      "language": "python",
      "name": "python3"
    },
    "language_info": {
      "codemirror_mode": {
        "name": "ipython",
        "version": 3
      },
      "file_extension": ".py",
      "mimetype": "text/x-python",
      "name": "python",
      "nbconvert_exporter": "python",
      "pygments_lexer": "ipython3",
      "version": "3.9.6"
    },
    "orig_nbformat": 4
  },
  "nbformat": 4,
  "nbformat_minor": 0
}