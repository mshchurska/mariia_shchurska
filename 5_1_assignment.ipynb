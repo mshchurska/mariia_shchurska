{
  "cells": [
    {
      "cell_type": "markdown",
      "metadata": {
        "id": "view-in-github",
        "colab_type": "text"
      },
      "source": [
        "<a href=\"https://colab.research.google.com/github/mshchurska/mariia_shchurska/blob/main/5_1_assignment.ipynb\" target=\"_parent\"><img src=\"https://colab.research.google.com/assets/colab-badge.svg\" alt=\"Open In Colab\"/></a>"
      ]
    },
    {
      "cell_type": "markdown",
      "metadata": {
        "id": "-89_Z_je0cfL"
      },
      "source": [
        "# Assignment 5.1\n",
        "\n",
        "> Replace all TODOs with your code.\n",
        ">\n",
        "> Do not change any other code and do not add/remove cells!"
      ]
    },
    {
      "cell_type": "markdown",
      "metadata": {
        "id": "w6E-GxTB0j4M"
      },
      "source": [
        "## Files"
      ]
    },
    {
      "cell_type": "markdown",
      "metadata": {
        "id": "iEwuf_DP0cfM"
      },
      "source": [
        "### Task 1\n",
        "\n",
        "Create a new file named \"hello.txt\" and write to it \"Hello, world!\"."
      ]
    },
    {
      "cell_type": "code",
      "execution_count": 13,
      "metadata": {
        "id": "IWVOCWxx0cfM",
        "tags": [
          "task_1"
        ]
      },
      "outputs": [],
      "source": [
        "# TODO\n",
        "with open('hello.txt', mode='w') as file:\n",
        "    file.write('Hello, world!')"
      ]
    },
    {
      "cell_type": "code",
      "source": [
        "with open('hello.txt', 'r') as file:\n",
        "    text = file.read()\n",
        "print(text)"
      ],
      "metadata": {
        "colab": {
          "base_uri": "https://localhost:8080/"
        },
        "id": "PQir5t83dR8H",
        "outputId": "c3a2f35d-ead4-46fa-cf42-045ecbbe9c64"
      },
      "execution_count": 14,
      "outputs": [
        {
          "output_type": "stream",
          "name": "stdout",
          "text": [
            "Hello, world!\n"
          ]
        }
      ]
    },
    {
      "cell_type": "markdown",
      "metadata": {
        "id": "2z8HqsaK0cfN"
      },
      "source": [
        "### Task 2\n",
        "\n",
        "Open the file \"hello.txt\" and rewrite it with a random integer from the range [1, 10]."
      ]
    },
    {
      "cell_type": "code",
      "execution_count": 17,
      "metadata": {
        "id": "kva_9ycA0cfN",
        "tags": [
          "task_2"
        ],
        "colab": {
          "base_uri": "https://localhost:8080/"
        },
        "outputId": "1cd56c73-6d5b-45b7-e340-a44080962bf1"
      },
      "outputs": [
        {
          "output_type": "stream",
          "name": "stdout",
          "text": [
            "4\n"
          ]
        }
      ],
      "source": [
        "import random\n",
        "with open('hello.txt', mode='w') as file:\n",
        "  number=random.randint(1, 10)\n",
        "  print(number)\n",
        "  file.write(str(number))"
      ]
    },
    {
      "cell_type": "code",
      "source": [
        "with open('hello.txt', 'r') as file:\n",
        "    text = file.read()\n",
        "print(text)"
      ],
      "metadata": {
        "colab": {
          "base_uri": "https://localhost:8080/"
        },
        "id": "3mfyzs9wbYBB",
        "outputId": "b52d8eee-0c8a-4008-e023-c2653a3e8000"
      },
      "execution_count": 21,
      "outputs": [
        {
          "output_type": "stream",
          "name": "stdout",
          "text": [
            "4\n"
          ]
        }
      ]
    },
    {
      "cell_type": "markdown",
      "metadata": {
        "id": "IqjW7SGS0cfN"
      },
      "source": [
        "### Task 3\n",
        "\n",
        "Open file \"hello.txt\" and read the number from it to variable `n`. Now append `n` upper-case letters starting with \"A\", \"B\", ... to the file."
      ]
    },
    {
      "cell_type": "code",
      "execution_count": 49,
      "metadata": {
        "id": "p83RQvA40cfN",
        "tags": [
          "task_3"
        ]
      },
      "outputs": [],
      "source": [
        "with open(\"hello.txt\", \"r\") as file:\n",
        "    n = int(file.read().strip())\n",
        "\n",
        "with open('hello.txt', mode='a') as file:\n",
        "  append_letters=','.join(chr(65 + i) for i in range(n) )\n",
        "  file.write(append_letters)\n"
      ]
    },
    {
      "cell_type": "code",
      "source": [
        "with open('hello.txt', 'r') as file:\n",
        "    text = file.read()\n",
        "print(text)"
      ],
      "metadata": {
        "colab": {
          "base_uri": "https://localhost:8080/"
        },
        "id": "M1j8ZINOgr2w",
        "outputId": "899c37ed-ad59-44c0-9af1-e6ad04e44fa3"
      },
      "execution_count": 50,
      "outputs": [
        {
          "output_type": "stream",
          "name": "stdout",
          "text": [
            "4A,B,C,D\n"
          ]
        }
      ]
    },
    {
      "cell_type": "code",
      "source": [],
      "metadata": {
        "colab": {
          "base_uri": "https://localhost:8080/"
        },
        "id": "AX6_3aqUhAHB",
        "outputId": "4a5a35a6-c055-4f85-9171-54d682fbc902"
      },
      "execution_count": 45,
      "outputs": [
        {
          "output_type": "stream",
          "name": "stdout",
          "text": [
            "A B C D\n"
          ]
        }
      ]
    },
    {
      "cell_type": "markdown",
      "metadata": {
        "id": "fceBNTpUnip6"
      },
      "source": [
        "### Task 4\n",
        "\n",
        "Now open this file again and print to console its content."
      ]
    },
    {
      "cell_type": "code",
      "execution_count": null,
      "metadata": {
        "id": "VsoALrbBnsjs",
        "tags": [
          "task_4"
        ]
      },
      "outputs": [],
      "source": [
        "with open('hello.txt', 'r') as file:\n",
        "    text = file.read()\n",
        "print(text)"
      ]
    },
    {
      "cell_type": "markdown",
      "metadata": {
        "id": "cBs-hn5nEvup"
      },
      "source": [
        "## CSV"
      ]
    },
    {
      "cell_type": "markdown",
      "metadata": {
        "id": "XysWADCIEvuq"
      },
      "source": [
        "### Task 5\n",
        "\n",
        "You have some warehouse data stored in the `warehouse` list. You want to persist this data to the disk in CSV format.\n",
        "\n",
        "Create a file `warehouse_v1.csv` and write the contents of `warehouse` list to it. Use the same methods for working with files as in previous exercises (i.e., `file.write()`).\n",
        "\n",
        "The file should look like this:\n",
        "```csv\n",
        "product,price,quantity\n",
        "Apple,0.5,10\n",
        "...\n",
        "```"
      ]
    },
    {
      "cell_type": "code",
      "execution_count": 88,
      "metadata": {
        "tags": [
          "task_5"
        ],
        "id": "nUmJtZa2Evur"
      },
      "outputs": [],
      "source": [
        "\n",
        "warehouse = [\n",
        "    {\"product\": \"Apple\", \"price\": 0.5, \"quantity\": 10},\n",
        "    {\"product\": \"Banana\", \"price\": 0.75, \"quantity\": 20},\n",
        "    {\"product\": \"Orange\", \"price\": 0.35, \"quantity\": 15}\n",
        "]\n",
        "\n",
        "with open('warehouse_v1.csv', mode='w') as file:\n",
        "  list_of_values=[]\n",
        "  names_of_col=warehouse[0].keys()\n",
        "  file.write(\",\".join(names_of_col) + \"\\n\")\n",
        "  for i in warehouse:\n",
        "    list_of_values=[str(j) for j in i.values()]\n",
        "    file.write(\",\".join(list_of_values)+ \"\\n\")\n",
        "\n"
      ]
    },
    {
      "cell_type": "code",
      "source": [
        "with open('warehouse_v1.csv', 'r') as file:\n",
        "    text = file.read()\n",
        "print(text)"
      ],
      "metadata": {
        "colab": {
          "base_uri": "https://localhost:8080/"
        },
        "id": "Vu2kaUMZqX_X",
        "outputId": "563cfda3-6494-4575-90bc-14b14dee2954"
      },
      "execution_count": 89,
      "outputs": [
        {
          "output_type": "stream",
          "name": "stdout",
          "text": [
            "product,price,quantity\n",
            "Apple,0.5,10\n",
            "Banana,0.75,20\n",
            "Orange,0.35,15\n",
            "\n"
          ]
        }
      ]
    },
    {
      "cell_type": "markdown",
      "metadata": {
        "id": "B1v2ZLfYEvut"
      },
      "source": [
        "### Task 6\n",
        "\n",
        "Now use csv writer convenience methods to do the same to the file `warehouse_v2.csv`. The file content should be identical."
      ]
    },
    {
      "cell_type": "code",
      "execution_count": 92,
      "metadata": {
        "tags": [
          "task_6"
        ],
        "id": "HfQ1i0TjEvuu",
        "colab": {
          "base_uri": "https://localhost:8080/"
        },
        "outputId": "1f908685-c727-4116-947b-afdc58f1dace"
      },
      "outputs": [
        {
          "output_type": "stream",
          "name": "stdout",
          "text": [
            "product,price,quantity\n",
            "Apple,0.5,10\n",
            "Banana,0.75,20\n",
            "Orange,0.35,15\n",
            "\n"
          ]
        }
      ],
      "source": [
        "import csv\n",
        "warehouse = [\n",
        "    {\"product\": \"Apple\", \"price\": 0.5, \"quantity\": 10},\n",
        "    {\"product\": \"Banana\", \"price\": 0.75, \"quantity\": 20},\n",
        "    {\"product\": \"Orange\", \"price\": 0.35, \"quantity\": 15}\n",
        "]\n",
        "\n",
        "header = ['product', 'price', 'quantity']\n",
        "with open('warehouse_v2.csv', mode='w') as file:\n",
        "    writer = csv.DictWriter(file, fieldnames=header)\n",
        "\n",
        "    writer.writeheader()\n",
        "    writer.writerows(warehouse)\n",
        "\n",
        "with open('warehouse_v2.csv', 'r') as file:\n",
        "    text = file.read()\n",
        "print(text)\n",
        "# TODO"
      ]
    },
    {
      "cell_type": "markdown",
      "metadata": {
        "id": "hY-gVS93Evuv"
      },
      "source": [
        "## JSON"
      ]
    },
    {
      "cell_type": "markdown",
      "metadata": {
        "id": "WBABzqgMEvuv"
      },
      "source": [
        "### Task 7\n",
        "\n",
        "The lecture didn't mention this, but another common way to store information on disk is JSON. The JSON structure comes from Javascript, but somehow similar to native Python structures like `list` and `dict`. There's `json` module to help you work with JSON files.\n",
        "\n",
        "Now, store the same `warehouse` object to the `warehouse.json` file and inspect its content. Use the internet to look up the needed functions."
      ]
    },
    {
      "cell_type": "code",
      "execution_count": 95,
      "metadata": {
        "tags": [
          "task_7"
        ],
        "id": "dGWzuDdwEvuw"
      },
      "outputs": [],
      "source": [
        "import json\n",
        "warehouse = [\n",
        "    {\"product\": \"Apple\", \"price\": 0.5, \"quantity\": 10},\n",
        "    {\"product\": \"Banana\", \"price\": 0.75, \"quantity\": 20},\n",
        "    {\"product\": \"Orange\", \"price\": 0.35, \"quantity\": 15}\n",
        "]\n",
        "\n",
        "with open('warehouse.json', 'w') as file:\n",
        "    json.dump(warehouse, file, indent=3)\n",
        "# TODO"
      ]
    },
    {
      "cell_type": "code",
      "source": [
        "with open('warehouse.json', 'r') as file:\n",
        "    text = file.read()\n",
        "print(text)"
      ],
      "metadata": {
        "colab": {
          "base_uri": "https://localhost:8080/"
        },
        "id": "ZuGyeLWmtRZ6",
        "outputId": "b5643a83-b9b2-4130-fda5-a093be94ebf4"
      },
      "execution_count": 96,
      "outputs": [
        {
          "output_type": "stream",
          "name": "stdout",
          "text": [
            "[\n",
            "   {\n",
            "      \"product\": \"Apple\",\n",
            "      \"price\": 0.5,\n",
            "      \"quantity\": 10\n",
            "   },\n",
            "   {\n",
            "      \"product\": \"Banana\",\n",
            "      \"price\": 0.75,\n",
            "      \"quantity\": 20\n",
            "   },\n",
            "   {\n",
            "      \"product\": \"Orange\",\n",
            "      \"price\": 0.35,\n",
            "      \"quantity\": 15\n",
            "   }\n",
            "]\n"
          ]
        }
      ]
    }
  ],
  "metadata": {
    "colab": {
      "provenance": [],
      "include_colab_link": true
    },
    "kernelspec": {
      "display_name": "venv",
      "language": "python",
      "name": "python3"
    },
    "language_info": {
      "codemirror_mode": {
        "name": "ipython",
        "version": 3
      },
      "file_extension": ".py",
      "mimetype": "text/x-python",
      "name": "python",
      "nbconvert_exporter": "python",
      "pygments_lexer": "ipython3",
      "version": "3.11.5"
    },
    "orig_nbformat": 4
  },
  "nbformat": 4,
  "nbformat_minor": 0
}