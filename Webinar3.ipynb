{
  "nbformat": 4,
  "nbformat_minor": 0,
  "metadata": {
    "colab": {
      "provenance": [],
      "authorship_tag": "ABX9TyOCf78aEykVgFiAUPtukupE",
      "include_colab_link": true
    },
    "kernelspec": {
      "name": "python3",
      "display_name": "Python 3"
    },
    "language_info": {
      "name": "python"
    }
  },
  "cells": [
    {
      "cell_type": "markdown",
      "metadata": {
        "id": "view-in-github",
        "colab_type": "text"
      },
      "source": [
        "<a href=\"https://colab.research.google.com/github/mshchurska/mariia_shchurska/blob/main/Webinar3.ipynb\" target=\"_parent\"><img src=\"https://colab.research.google.com/assets/colab-badge.svg\" alt=\"Open In Colab\"/></a>"
      ]
    },
    {
      "cell_type": "code",
      "execution_count": 20,
      "metadata": {
        "colab": {
          "base_uri": "https://localhost:8080/"
        },
        "id": "ffOW8_QTMog1",
        "outputId": "fc42f49b-4f60-4993-94bf-75bf8fdd7ea5"
      },
      "outputs": [
        {
          "output_type": "stream",
          "name": "stdout",
          "text": [
            "True\n",
            "True\n"
          ]
        }
      ],
      "source": [
        "# Intersection and merge of two sorted lists\n",
        "\n",
        "# a. Write a function that returns an intersection of two sorted lists of integers in non-decreasing order.\n",
        "# b. Write a function that returns a merge of two sorted lists of integers  in non-decreasing order.\n",
        "\n",
        "def intersection(a, b):\n",
        "  intersection_set=[]\n",
        "  for i in a:\n",
        "    for j in b:\n",
        "      if i==j:\n",
        "        intersection_set.append(i)\n",
        "  return  intersection_set\n",
        "\n",
        "def merge(a, b):\n",
        "  return sorted(a+b)\n",
        "\n",
        "\n",
        "\n",
        "\n",
        "a = [1, 2, 3]\n",
        "b = [2, 3, 4, 5, 6]\n",
        "\n",
        "print(intersection(a, b)==[2, 3])\n",
        "print(merge(a, b) == [1, 2, 2, 3, 3, 4, 5, 6])"
      ]
    },
    {
      "cell_type": "code",
      "source": [
        "\n",
        "# Move zeroes\n",
        "\n",
        "# Given an integer array nums, move all 0's to the end of it while maintaining the relative order of the non-zero elements.\n",
        "\n",
        "def move_zeroes(numbers):\n",
        "  zero_elements=[]\n",
        "  other_elements=[]\n",
        "  for i in numbers:\n",
        "    if i!=0:\n",
        "      other_elements.append(i)\n",
        "    else:\n",
        "      zero_elements.append(i)\n",
        "  return (other_elements+zero_elements)\n",
        "\n",
        "nums = [0,1,0,3,12]\n",
        "print(move_zeroes(nums) == [1,3,12,0,0])"
      ],
      "metadata": {
        "colab": {
          "base_uri": "https://localhost:8080/"
        },
        "id": "7wpz7b8AMu3T",
        "outputId": "7025952a-915f-4c99-a5d0-e3b15f9bbeb6"
      },
      "execution_count": 21,
      "outputs": [
        {
          "output_type": "stream",
          "name": "stdout",
          "text": [
            "True\n"
          ]
        }
      ]
    },
    {
      "cell_type": "code",
      "source": [
        "# Shuffle list\n",
        "\n",
        "# Given a list, shuffle it so that the elements from the second half appear\n",
        "# between the elements from the first half.\n",
        "\n",
        "def shuffle_list(numbers):\n",
        "  shuffle_list=[]\n",
        "  num_first_part=numbers[:len(numbers)// 2]\n",
        "  num_second_part=numbers[len(numbers)// 2:]\n",
        "  for i, j in zip(num_first_part, num_second_part):\n",
        "    shuffle_list.append(i)\n",
        "    shuffle_list.append(j)\n",
        "  return(shuffle_list)\n",
        "\n",
        "nums = [1, 2, 3, 4, 5, 6, 7, 8]\n",
        "\n",
        "print(shuffle_list(nums)== [1,5,2,6,3,7,4,8])"
      ],
      "metadata": {
        "colab": {
          "base_uri": "https://localhost:8080/"
        },
        "id": "ZOo_fay5MzXC",
        "outputId": "559a398b-2ae7-4d32-d053-5e5202698675"
      },
      "execution_count": 23,
      "outputs": [
        {
          "output_type": "stream",
          "name": "stdout",
          "text": [
            "True\n"
          ]
        }
      ]
    },
    {
      "cell_type": "code",
      "source": [
        "\n",
        "# Greatest common divisor of list\n",
        "\n",
        "# Given a list, find the greatest common divisor of all the elements in the list.\n",
        "\n",
        "def gcd(a, b):\n",
        "    while b != 0:\n",
        "        a, b = b, a % b\n",
        "    return a\n",
        "\n",
        "def gcd_list(numbers):\n",
        "  result = numbers[0]\n",
        "  for num in numbers[1:]:\n",
        "    result = gcd(result, num)\n",
        "  return result\n",
        "\n",
        "nums = [16,32,4,2]\n",
        "\n",
        "print(gcd_list(nums) == 4)"
      ],
      "metadata": {
        "colab": {
          "base_uri": "https://localhost:8080/"
        },
        "id": "PHPtMBoKM1L7",
        "outputId": "9ef4f3a1-4b12-4a80-e279-30ca0e9ff027"
      },
      "execution_count": 29,
      "outputs": [
        {
          "output_type": "stream",
          "name": "stdout",
          "text": [
            "False\n"
          ]
        }
      ]
    },
    {
      "cell_type": "code",
      "source": [],
      "metadata": {
        "id": "22RCDnJKFlZR"
      },
      "execution_count": null,
      "outputs": []
    }
  ]
}