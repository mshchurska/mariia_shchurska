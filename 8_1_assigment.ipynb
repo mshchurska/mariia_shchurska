{
  "cells": [
    {
      "cell_type": "markdown",
      "metadata": {
        "id": "view-in-github",
        "colab_type": "text"
      },
      "source": [
        "<a href=\"https://colab.research.google.com/github/mshchurska/mariia_shchurska/blob/main/8_1_assigment.ipynb\" target=\"_parent\"><img src=\"https://colab.research.google.com/assets/colab-badge.svg\" alt=\"Open In Colab\"/></a>"
      ]
    },
    {
      "cell_type": "markdown",
      "metadata": {
        "id": "2_R_Ya7UhcB8"
      },
      "source": [
        "# Assignment 8.1\n",
        "\n",
        "> Replace all TODOs with your code.\n",
        ">\n",
        "> Do not change any other code and do not add/remove cells!"
      ]
    },
    {
      "cell_type": "markdown",
      "metadata": {
        "id": "N1SWwMSshfVz"
      },
      "source": [
        "## Classes"
      ]
    },
    {
      "cell_type": "markdown",
      "metadata": {
        "id": "OY8NxJ-CiePg"
      },
      "source": [
        "### Task 1\n",
        "\n",
        "Define a Python class named `Interval` with the following specifications:\n",
        "\n",
        "1. The class should have a constructor (\\_\\_init__) that takes two parameters, start and end, and initializes the interval with these values.\n",
        "2. Ensure that both start and end are numeric (either integers or floats).\n",
        "3. Ensure that the start value is less than or equal to the end value.\n",
        "4. Provide a \\_\\_str__ method to return a string representation of the interval in the format \"[start, end]\"."
      ]
    },
    {
      "cell_type": "code",
      "execution_count": 2,
      "metadata": {
        "id": "VBFmFWDXjQPT",
        "colab": {
          "base_uri": "https://localhost:8080/"
        },
        "outputId": "80232772-b936-4b4e-bdce-0d7c4f1efa6d"
      },
      "outputs": [
        {
          "output_type": "stream",
          "name": "stdout",
          "text": [
            "[1, 5]\n"
          ]
        }
      ],
      "source": [
        "class Interval:\n",
        "    def __init__(self, start, end):\n",
        "      if not isinstance(start, (int, float))==True and isinstance(end, (int, float)):\n",
        "        raise TypeError('The value should be float or integer')\n",
        "      if start>end:\n",
        "        raise TypeError('The end should be greater than start')\n",
        "\n",
        "      self.start = start\n",
        "      self.end = end\n",
        "\n",
        "      pass\n",
        "\n",
        "    def __str__(self):\n",
        "      return f\"[{self.start}, {self.end}]\"\n",
        "      # TODO\n",
        "      pass\n",
        "\n",
        "interval = Interval(1, 5)\n",
        "print(interval) # [1, 5]"
      ]
    },
    {
      "cell_type": "code",
      "source": [],
      "metadata": {
        "id": "HC9yckfBAa0E"
      },
      "execution_count": null,
      "outputs": []
    },
    {
      "cell_type": "code",
      "source": [
        "isinstance(10, (int, float))"
      ],
      "metadata": {
        "colab": {
          "base_uri": "https://localhost:8080/"
        },
        "id": "dK3wRQ3VBdLP",
        "outputId": "565ef0a3-fbea-4bda-b995-b32cf3fe28d4"
      },
      "execution_count": null,
      "outputs": [
        {
          "output_type": "execute_result",
          "data": {
            "text/plain": [
              "True"
            ]
          },
          "metadata": {},
          "execution_count": 25
        }
      ]
    },
    {
      "cell_type": "markdown",
      "metadata": {
        "id": "pJ72CYiylhIY"
      },
      "source": [
        "### Task 2\n",
        "\n",
        "Expand the Interval class by adding a method named `is_overlapping` that checks whether the current interval overlaps with another interval. The method should take another Interval object as a parameter and return `True` if there is an overlap and `False` otherwise."
      ]
    },
    {
      "cell_type": "code",
      "execution_count": null,
      "metadata": {
        "id": "7t64cfMdl3qe",
        "colab": {
          "base_uri": "https://localhost:8080/"
        },
        "outputId": "7d031ba2-b21f-48a9-bae1-d4f1c44490d6"
      },
      "outputs": [
        {
          "output_type": "stream",
          "name": "stdout",
          "text": [
            "Do intervals overlap? False\n"
          ]
        }
      ],
      "source": [
        "class Interval:\n",
        "    def __init__(self, start, end):\n",
        "      if not isinstance(start, (int, float))==True and isinstance(end, (int, float)):\n",
        "        raise TypeError('The value should be float or integer')\n",
        "      if start>end:\n",
        "        raise TypeError('The end should be greater than start')\n",
        "\n",
        "      self.start = start\n",
        "      self.end = end\n",
        "\n",
        "      pass\n",
        "\n",
        "    def is_overlapping(self, other_interval):\n",
        "        if self.start<=other_interval.end and self.end>=other_interval.end:\n",
        "          return True\n",
        "        else:\n",
        "          return False\n",
        "        pass\n",
        "\n",
        "interval1 = Interval(1, 2)\n",
        "interval2 = Interval(3, 8)\n",
        "\n",
        "overlap_result = interval1.is_overlapping(interval2)\n",
        "print(\"Do intervals overlap?\", overlap_result) # Do intervals overlap? True"
      ]
    },
    {
      "cell_type": "markdown",
      "metadata": {
        "id": "aelqtEfkni2N"
      },
      "source": [
        "### Task 3\n",
        "\n",
        "Expand the `Interval` class by adding a **static** method named `intersection_static` that calculates the intersection of two overlapping intervals. The static method should take two `Interval` objects as parameters and return a new `Interval` representing the intersection if there is one.\n",
        "\n",
        "The method should return `None` if the intervals do not overlap."
      ]
    },
    {
      "cell_type": "code",
      "execution_count": 3,
      "metadata": {
        "id": "E6DNMmTRoyNa",
        "colab": {
          "base_uri": "https://localhost:8080/"
        },
        "outputId": "18e773a6-13af-4df4-a8ac-2a57dfe0f7a4"
      },
      "outputs": [
        {
          "output_type": "stream",
          "name": "stdout",
          "text": [
            "Intersection result (static method): [3, 5]\n"
          ]
        }
      ],
      "source": [
        "class Interval:\n",
        "    def __init__(self, start, end):\n",
        "      if not isinstance(start, (int, float))==True and isinstance(end, (int, float)):\n",
        "        raise TypeError('The value should be float or integer')\n",
        "      if start>end:\n",
        "        raise TypeError('The end should be greater than start')\n",
        "\n",
        "      self.start = start\n",
        "      self.end = end\n",
        "\n",
        "      pass\n",
        "\n",
        "    def __str__(self):\n",
        "      return f\"[{self.start}, {self.end}]\"\n",
        "      # TODO\n",
        "      pass\n",
        "\n",
        "    @staticmethod\n",
        "    def intersection_static(interval1, interval2):\n",
        "\n",
        "       max_start = max(interval1.start, interval2.start)\n",
        "       min_end = min(interval1.end, interval2.end)\n",
        "\n",
        "       if max_start <= min_end:\n",
        "        return Interval(max_start, min_end)\n",
        "       else:\n",
        "        return None\n",
        "\n",
        "       pass\n",
        "\n",
        "interval1 = Interval(1, 5)\n",
        "interval2 = Interval(3, 8)\n",
        "\n",
        "intersection_result_static = Interval.intersection_static(interval1, interval2)\n",
        "print(\"Intersection result (static method):\", intersection_result_static) # Intersection result (static method): [3, 5]"
      ]
    },
    {
      "cell_type": "markdown",
      "metadata": {
        "id": "xGh7oQHFtsSl"
      },
      "source": [
        "### Task 4\n",
        "\n",
        "Expand the `Interval` class by overloading a math operator \"&\" to calculate the intersection of two overlapping intervals. Define the logic for the intersection using the method from the previous task."
      ]
    },
    {
      "cell_type": "code",
      "execution_count": null,
      "metadata": {
        "id": "3f3CiUlGu1cq",
        "colab": {
          "base_uri": "https://localhost:8080/"
        },
        "outputId": "6f3acb3e-47f4-4971-e308-23eca61fae44"
      },
      "outputs": [
        {
          "output_type": "stream",
          "name": "stdout",
          "text": [
            "Intersection result: [3, 5]\n"
          ]
        }
      ],
      "source": [
        "class Interval:\n",
        "    def __init__(self, start, end):\n",
        "      if not isinstance(start, (int, float))==True and isinstance(end, (int, float)):\n",
        "        raise TypeError('The value should be float or integer')\n",
        "      if start>end:\n",
        "        raise TypeError('The end should be greater than start')\n",
        "\n",
        "      self.start = start\n",
        "      self.end = end\n",
        "\n",
        "      pass\n",
        "\n",
        "    def __str__(self):\n",
        "      return f\"[{self.start}, {self.end}]\"\n",
        "      # TODO\n",
        "      pass\n",
        "\n",
        "    @staticmethod\n",
        "    def intersection_static(interval1, interval2):\n",
        "\n",
        "       max_start = max(interval1.start, interval2.start)\n",
        "       min_end = min(interval1.end, interval2.end)\n",
        "\n",
        "       if max_start <= min_end:\n",
        "        return Interval(max_start, min_end)\n",
        "       else:\n",
        "        return None\n",
        "\n",
        "       pass\n",
        "\n",
        "    def __and__(self, other_interval):\n",
        "      if not isinstance(other_interval, Interval):\n",
        "        return None\n",
        "\n",
        "      return Interval.intersection_static(self, other_interval)\n",
        "\n",
        "\n",
        "\n",
        "\n",
        "interval1 = Interval(1, 5)\n",
        "interval2 = Interval(3, 8)\n",
        "\n",
        "intersection_result = interval1 & interval2\n",
        "print(\"Intersection result:\", intersection_result) # Intersection result: [3, 5]"
      ]
    },
    {
      "cell_type": "markdown",
      "metadata": {
        "id": "51BGij2Tvoka"
      },
      "source": [
        "### Task 5\n",
        "\n",
        "Expand the `Interval` class by adding a static method named `union_static` that calculates the union of two overlapping intervals. The static method should take two Interval objects as parameters and return a new Interval representing the union if there is one.\n",
        "\n",
        "The method should return `None` if the intervals do not overlap."
      ]
    },
    {
      "cell_type": "code",
      "execution_count": null,
      "metadata": {
        "id": "Xnm1CbK8v2v1",
        "colab": {
          "base_uri": "https://localhost:8080/"
        },
        "outputId": "bb92c07f-06ba-4b69-8046-065dbef52b72"
      },
      "outputs": [
        {
          "output_type": "stream",
          "name": "stdout",
          "text": [
            "Union Result (Static method): [1, 8]\n"
          ]
        }
      ],
      "source": [
        "class Interval:\n",
        "    def __init__(self, start, end):\n",
        "      if not isinstance(start, (int, float))==True and isinstance(end, (int, float)):\n",
        "        raise TypeError('The value should be float or integer')\n",
        "      if start>end:\n",
        "        raise TypeError('The end should be greater than start')\n",
        "\n",
        "      self.start = start\n",
        "      self.end = end\n",
        "\n",
        "      pass\n",
        "\n",
        "    def __str__(self):\n",
        "      return f\"[{self.start}, {self.end}]\"\n",
        "      # TODO\n",
        "      pass\n",
        "\n",
        "    @staticmethod\n",
        "    def union_static(interval1, interval2):\n",
        "      if interval1.end >= interval2.start and interval2.end >= interval1.start:\n",
        "        min_start = min(interval1.start, interval2.start)\n",
        "        max_end = max(interval1.end, interval2.end)\n",
        "        return Interval(min_start, max_end)\n",
        "      else:\n",
        "        return None\n",
        "      pass\n",
        "\n",
        "interval1 = Interval(1, 3)\n",
        "interval2 = Interval(3, 8)\n",
        "\n",
        "union_result_static = Interval.union_static(interval1, interval2)\n",
        "print(\"Union Result (Static method):\", union_result_static) # Union Result (Static method): [1, 8]"
      ]
    },
    {
      "cell_type": "markdown",
      "metadata": {
        "id": "5yGYlKjCwbzr"
      },
      "source": [
        "### Task 6\n",
        "\n",
        "Expand the `Interval` class by overloading a math operator \"|\" to calculate the union  of two overlapping intervals. Define the logic for the union using the method from the previous task."
      ]
    },
    {
      "cell_type": "code",
      "execution_count": null,
      "metadata": {
        "id": "xjCgPAy5wu1Z",
        "colab": {
          "base_uri": "https://localhost:8080/"
        },
        "outputId": "df321815-5567-4194-988e-4b807e6496a4"
      },
      "outputs": [
        {
          "output_type": "stream",
          "name": "stdout",
          "text": [
            "Union Result: [1, 8]\n"
          ]
        }
      ],
      "source": [
        "class Interval:\n",
        "    def __init__(self, start, end):\n",
        "      if not isinstance(start, (int, float))==True and isinstance(end, (int, float)):\n",
        "        raise TypeError('The value should be float or integer')\n",
        "      if start>end:\n",
        "        raise TypeError('The end should be greater than start')\n",
        "\n",
        "      self.start = start\n",
        "      self.end = end\n",
        "\n",
        "      pass\n",
        "\n",
        "    def __str__(self):\n",
        "      return f\"[{self.start}, {self.end}]\"\n",
        "      # TODO\n",
        "      pass\n",
        "\n",
        "    @staticmethod\n",
        "    def union_static(interval1, interval2):\n",
        "      if interval1.end >= interval2.start and interval2.end >= interval1.start:\n",
        "        min_start = min(interval1.start, interval2.start)\n",
        "        max_end = max(interval1.end, interval2.end)\n",
        "        return Interval(min_start, max_end)\n",
        "      else:\n",
        "        return None\n",
        "      pass\n",
        "\n",
        "\n",
        "    def __or__(self, other):\n",
        "        if not isinstance(other, Interval):\n",
        "            return None\n",
        "        return Interval.union_static(self, other)\n",
        "\n",
        "\n",
        "interval1 = Interval(1, 3)\n",
        "interval2 = Interval(3, 8)\n",
        "\n",
        "union_result = interval1 | interval2\n",
        "print(\"Union Result:\", union_result) # Union Result: [1, 8]"
      ]
    },
    {
      "cell_type": "markdown",
      "metadata": {
        "id": "N-hiSBEK0fbz"
      },
      "source": [
        "### Task 7 (optional)\n",
        "\n",
        "Expand the `Interval` class by overloading the \"-\" operator to calculate the difference between two intervals. The method should return a new `Interval` representing the portion of the first interval that is not in the second."
      ]
    },
    {
      "cell_type": "code",
      "execution_count": null,
      "metadata": {
        "id": "YZ5AqAXr002L"
      },
      "outputs": [],
      "source": [
        "class Interval:\n",
        "    # TODO: copy methods from the tasks before\n",
        "\n",
        "    # TODO\n",
        "\n",
        "\n",
        "interval1 = Interval(1, 5)\n",
        "interval2 = Interval(3, 8)\n",
        "\n",
        "print(\"Difference Result:\", interval1 - interval2) # Union Result: [1, 2]\n",
        "print(\"Difference Result:\", interval2 - interval1) # Union Result: [6, 8]"
      ]
    }
  ],
  "metadata": {
    "colab": {
      "provenance": [],
      "toc_visible": true,
      "include_colab_link": true
    },
    "kernelspec": {
      "display_name": "Python 3",
      "name": "python3"
    },
    "language_info": {
      "name": "python"
    }
  },
  "nbformat": 4,
  "nbformat_minor": 0
}