{
  "cells": [
    {
      "cell_type": "markdown",
      "metadata": {
        "id": "view-in-github",
        "colab_type": "text"
      },
      "source": [
        "<a href=\"https://colab.research.google.com/github/mshchurska/mariia_shchurska/blob/main/Copy_of_10_2_assignment.ipynb\" target=\"_parent\"><img src=\"https://colab.research.google.com/assets/colab-badge.svg\" alt=\"Open In Colab\"/></a>"
      ]
    },
    {
      "cell_type": "markdown",
      "metadata": {
        "id": "oY7M_WqQy7zz"
      },
      "source": [
        "# Assignment 10.2\n",
        "\n",
        "> Replace all TODOs with your code. Do not change any other code."
      ]
    },
    {
      "cell_type": "code",
      "execution_count": null,
      "metadata": {
        "id": "DCZ2nU3KCFyk"
      },
      "outputs": [],
      "source": [
        "# Do not edit this cell\n",
        "\n",
        "import csv\n",
        "import unittest\n"
      ]
    },
    {
      "cell_type": "markdown",
      "metadata": {
        "id": "Jz8SYjAz0N8D"
      },
      "source": [
        "## Clean code"
      ]
    },
    {
      "cell_type": "markdown",
      "metadata": {
        "id": "IHwd1Zzby7z1"
      },
      "source": [
        "### Task 1\n",
        "\n",
        "You are given a function that reads a csv file with temperature measurements (see example below), converts Fahrenheit values to Celsius, calculates and prints some statistics, and writes to another file. It looks a bit messy, let's clean it up!\n",
        "\n",
        "Example file:\n",
        "```csv\n",
        "Temperature (F)\n",
        "78.5\n",
        "81.2\n",
        "75.9\n",
        "82.1\n",
        "```\n",
        "\n",
        "Do the steps below one by one, editing the code in the cell:\n",
        "1. Naming is so ambiguous and unclear, let's rename variables and function name with proper names.\n",
        "2. Are these comments really useful?\n",
        "3. This function does quite a lot, let's divide it in the way that each function does only one thing, and there's one main function that uses others.\n",
        "4. There seem to be some magic coefficients in the temperature conversion part; let's make them obvious.\n",
        "\n",
        "If you find any additional improvements, feel free to implement them and leave a comment under your code with an explanation."
      ]
    },
    {
      "cell_type": "code",
      "execution_count": null,
      "metadata": {
        "tags": [
          "task_1"
        ],
        "id": "uBoo2azsCFyv"
      },
      "outputs": [],
      "source": [
        "import csv\n",
        "\n",
        "def fahrenheit_to_celsius(f):\n",
        "    return (f - 32) * 5 / 9\n",
        "\n",
        "def read_temperatures(file_name):\n",
        "    celsius_list = []\n",
        "    with open(file_name, 'r') as file:\n",
        "        reader = csv.reader(file)\n",
        "        next(reader)  # пропускаємо заголовок\n",
        "        for row in reader:\n",
        "            f = float(row[0])\n",
        "            c = fahrenheit_to_celsius(f)\n",
        "            celsius_list.append(c)\n",
        "    return celsius_list\n",
        "\n",
        "def calculate_stats(temperatures):\n",
        "    avg = sum(temperatures) / len(temperatures)\n",
        "    return avg, min(temperatures), max(temperatures)\n",
        "\n",
        "def write_temperatures(file_name, temperatures):\n",
        "    with open(file_name, 'w', newline='') as file:\n",
        "        writer = csv.writer(file)\n",
        "        writer.writerow(['Temperature (C)'])\n",
        "        for t in temperatures:\n",
        "            writer.writerow([t])\n",
        "\n",
        "def main(input_file, output_file):\n",
        "    temps = read_temperatures(input_file)\n",
        "    avg, min_temp, max_temp = calculate_stats(temps)\n",
        "\n",
        "    print(\"Statistics:\")\n",
        "    print(f\"Average: {avg:.2f}°C\")\n",
        "    print(f\"Minimum: {min_temp:.2f}°C\")\n",
        "    print(f\"Maximum: {max_temp:.2f}°C\")\n",
        "\n",
        "    write_temperatures(output_file, temps)\n"
      ]
    },
    {
      "cell_type": "markdown",
      "metadata": {
        "id": "lL-ELM-Ay7z2"
      },
      "source": [
        "### Task 2\n",
        "\n",
        "How would you write tests for the initial implementation? What exactly would you test in the function?\n",
        "\n",
        "I hope you see now that once functionality is separated, it's easier to test it in isolation. So, let's write a couple of unit tests for your function and one integration test for your main function.\n",
        "\n",
        "Hint: you would probably want to mock reading from/writing to file to make the test independent from the environment."
      ]
    },
    {
      "cell_type": "code",
      "execution_count": null,
      "metadata": {
        "id": "cibiSsjry7z3",
        "tags": [
          "task_2"
        ]
      },
      "outputs": [],
      "source": [
        "import unittest\n",
        "from unittest.mock import mock_open, patch\n",
        "from io import StringIO\n",
        "\n",
        "class UnitTestCase(unittest.TestCase):\n",
        "\n",
        "    def test_fahrenheit_to_celsius(self):\n",
        "        from my_module import fahrenheit_to_celsius\n",
        "        self.assertAlmostEqual(fahrenheit_to_celsius(32), 0)\n",
        "        self.assertAlmostEqual(fahrenheit_to_celsius(212), 100)\n",
        "\n",
        "    def test_calculate_stats(self):\n",
        "        from my_module import calculate_stats\n",
        "        data = [10.0, 20.0, 30.0]\n",
        "        avg, min_t, max_t = calculate_stats(data)\n",
        "        self.assertEqual(avg, 20.0)\n",
        "        self.assertEqual(min_t, 10.0)\n",
        "        self.assertEqual(max_t, 30.0)\n",
        "\n",
        "    @patch(\"builtins.open\", new_callable=mock_open, read_data=\"Temperature (F)\\n32\\n212\\n\")\n",
        "    def test_read_temperatures(self, mock_file):\n",
        "        from my_module import read_temperatures\n",
        "        result = read_temperatures(\"fake.csv\")\n",
        "        self.assertAlmostEqual(result[0], 0.0)\n",
        "        self.assertAlmostEqual(result[1], 100.0)\n",
        "\n",
        "\n",
        "\n",
        "class IntegrationTestCase(unittest.TestCase):\n",
        "\n",
        "    @patch(\"builtins.open\", new_callable=mock_open)\n",
        "    @patch(\"csv.writer\")\n",
        "    @patch(\"csv.reader\", return_value=[[\"Temperature (F)\"], [\"32\"], [\"212\"]])\n",
        "    def test_main_function(self, mock_reader, mock_writer, mock_file):\n",
        "        from my_module import main\n",
        "        main(\"input.csv\", \"output.csv\")\n",
        "\n",
        "        # Перевіряємо, що запис відбувся у файл\n",
        "        mock_file.assert_called()\n",
        "        mock_writer().writerow.assert_any_call(['Temperature (C)'])\n",
        "        mock_writer().writerow.assert_any_call([0.0])\n",
        "        mock_writer().writerow.assert_any_call([100.0])\n",
        "\n"
      ]
    }
  ],
  "metadata": {
    "colab": {
      "provenance": [],
      "toc_visible": true,
      "include_colab_link": true
    },
    "kernelspec": {
      "display_name": "venv",
      "language": "python",
      "name": "python3"
    },
    "language_info": {
      "codemirror_mode": {
        "name": "ipython",
        "version": 3
      },
      "file_extension": ".py",
      "mimetype": "text/x-python",
      "name": "python",
      "nbconvert_exporter": "python",
      "pygments_lexer": "ipython3",
      "version": "3.11.5"
    },
    "orig_nbformat": 4
  },
  "nbformat": 4,
  "nbformat_minor": 0
}