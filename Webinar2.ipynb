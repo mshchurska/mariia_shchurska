{
  "nbformat": 4,
  "nbformat_minor": 0,
  "metadata": {
    "colab": {
      "provenance": [],
      "authorship_tag": "ABX9TyPi3gnf81tsGylqvwzNmTBh",
      "include_colab_link": true
    },
    "kernelspec": {
      "name": "python3",
      "display_name": "Python 3"
    },
    "language_info": {
      "name": "python"
    }
  },
  "cells": [
    {
      "cell_type": "markdown",
      "metadata": {
        "id": "view-in-github",
        "colab_type": "text"
      },
      "source": [
        "<a href=\"https://colab.research.google.com/github/mshchurska/mariia_shchurska/blob/main/Webinar2.ipynb\" target=\"_parent\"><img src=\"https://colab.research.google.com/assets/colab-badge.svg\" alt=\"Open In Colab\"/></a>"
      ]
    },
    {
      "cell_type": "code",
      "execution_count": null,
      "metadata": {
        "colab": {
          "base_uri": "https://localhost:8080/"
        },
        "id": "HTHQSEbkn5fV",
        "outputId": "1b5172b8-5b76-47ce-c44d-0ffcce4357c9"
      },
      "outputs": [
        {
          "output_type": "stream",
          "name": "stdout",
          "text": [
            "1234\n",
            "10\n"
          ]
        }
      ],
      "source": [
        "\n",
        "# Sum of Digits\n",
        "# Write a program that takes an integer as input and calculates the sum of its digits\n",
        "# For example, if the input is 1234, the output should be 10.\n",
        "\n",
        "def sum_of_digits():\n",
        "  numbers=input()\n",
        "  sum=0\n",
        "  for i in numbers:\n",
        "    sum+=int(i)\n",
        "  return sum\n",
        "\n",
        "print(sum_of_digits())\n"
      ]
    },
    {
      "cell_type": "code",
      "source": [
        "# Factorial\n",
        "\n",
        "# Write a program that calculates the factorial of a given number.\n",
        "# The factorial of a number n is the product of all positive integers less than or equal to n.\n",
        "\n",
        "# For example, if the input is 5, the output should be 120 (since 5! = 5 * 4 * 3 * 2 * 1 = 120).\n",
        "\n",
        "def factorial():\n",
        "  numbers=int(input())\n",
        "  factorial=1\n",
        "  for i in range(1, numbers+1):\n",
        "    print(i)\n",
        "    factorial*=i\n",
        "  return factorial\n",
        "\n",
        "print(factorial())"
      ],
      "metadata": {
        "colab": {
          "base_uri": "https://localhost:8080/"
        },
        "id": "dW9hhOJ0oVUx",
        "outputId": "0c7607b8-dbaf-4a67-bfd9-baa285b1c685"
      },
      "execution_count": null,
      "outputs": [
        {
          "output_type": "stream",
          "name": "stdout",
          "text": [
            "5\n",
            "1\n",
            "2\n",
            "3\n",
            "4\n",
            "5\n",
            "120\n"
          ]
        }
      ]
    },
    {
      "cell_type": "code",
      "source": [
        "# Prime Number Check\n",
        "\n",
        "# Write a program that checks if a given number is prime. A prime number is a natural number greater than 1\n",
        "# that has no positive divisors other than 1 and itself. For example, if the input is 7, the output should be true.\n"
      ],
      "metadata": {
        "id": "7_MH-k2Mpih9"
      },
      "execution_count": null,
      "outputs": []
    },
    {
      "cell_type": "code",
      "source": [
        "# Fibonacci Sequence\n",
        "\n",
        "# Write a program that prints the Fibonacci sequence up to a given number of terms.\n",
        "# The Fibonacci sequence is a series of numbers in which each number is the sum of the two preceding ones.\n",
        "\n",
        "# For example, if the input is 8, the output should be 0, 1, 1, 2, 3, 5, 8, 13.\n",
        "\n",
        "\n",
        "n = int(input())\n",
        "a = b = 1\n",
        "\n",
        "while(b <= n):\n",
        " print(b, end = \" \")\n",
        " a, b = b, a + b\n",
        "\n"
      ],
      "metadata": {
        "colab": {
          "base_uri": "https://localhost:8080/"
        },
        "id": "SoMVKGLtpm3a",
        "outputId": "4cbeadc9-6fa0-4798-f0b4-89976fa784a5"
      },
      "execution_count": null,
      "outputs": [
        {
          "output_type": "stream",
          "name": "stdout",
          "text": [
            "5\n",
            "1 2 3 5 "
          ]
        }
      ]
    },
    {
      "cell_type": "code",
      "source": [
        "# Prime Number Check\n",
        "\n",
        "# Write a program that checks if a given number is prime. A prime number is a natural number greater than 1\n",
        "# that has no positive divisors other than 1 and itself. For example, if the input is 7, the output should be true.\n",
        "\n",
        "num = int(input(\"Input your number: \"))\n",
        "\n",
        "def is_prime(num):\n",
        "  if num < 2:\n",
        "    return False\n",
        "  for i in range(2, num):\n",
        "    if num % i == 0:\n",
        "      return False\n",
        "  else: return True\n",
        "\n",
        "print(is_prime(num))"
      ],
      "metadata": {
        "colab": {
          "base_uri": "https://localhost:8080/"
        },
        "id": "buTV7wLoLYUu",
        "outputId": "c3acd744-d34e-4503-b7be-2dd583bcb761"
      },
      "execution_count": 5,
      "outputs": [
        {
          "output_type": "stream",
          "name": "stdout",
          "text": [
            "Input your number: 4\n",
            "False\n"
          ]
        }
      ]
    }
  ]
}