{
  "cells": [
    {
      "cell_type": "markdown",
      "metadata": {
        "id": "view-in-github",
        "colab_type": "text"
      },
      "source": [
        "<a href=\"https://colab.research.google.com/github/mshchurska/mariia_shchurska/blob/main/2_2_assignment.ipynb\" target=\"_parent\"><img src=\"https://colab.research.google.com/assets/colab-badge.svg\" alt=\"Open In Colab\"/></a>"
      ]
    },
    {
      "cell_type": "markdown",
      "metadata": {
        "id": "-89_Z_je0cfL"
      },
      "source": [
        "# Assignment 2.2\n",
        "\n",
        "> Replace all TODOs with your code.\n",
        ">\n",
        "> Do not change any other code and do not add/remove cells!"
      ]
    },
    {
      "cell_type": "markdown",
      "source": [
        "## For-loop"
      ],
      "metadata": {
        "id": "w6E-GxTB0j4M"
      }
    },
    {
      "cell_type": "markdown",
      "metadata": {
        "id": "iEwuf_DP0cfM"
      },
      "source": [
        "### Task 1\n",
        "\n",
        "Write a program that prints the numbers from `a` to `b` using for loop."
      ]
    },
    {
      "cell_type": "code",
      "execution_count": 6,
      "metadata": {
        "tags": [],
        "id": "IWVOCWxx0cfM",
        "colab": {
          "base_uri": "https://localhost:8080/"
        },
        "outputId": "def96946-4263-465a-d763-d025f61cd4de"
      },
      "outputs": [
        {
          "output_type": "stream",
          "name": "stdout",
          "text": [
            "1\n",
            "2\n",
            "3\n",
            "4\n",
            "5\n"
          ]
        }
      ],
      "source": [
        "a = 1\n",
        "b = 5\n",
        "for i in range(a, b+1):\n",
        "  print (i)\n",
        "# TODO\n",
        "\n",
        "# should print 1 2 3 4 5"
      ]
    },
    {
      "cell_type": "markdown",
      "source": [
        "## Functions"
      ],
      "metadata": {
        "id": "mZydlWw_0wzt"
      }
    },
    {
      "cell_type": "markdown",
      "metadata": {
        "id": "2z8HqsaK0cfN"
      },
      "source": [
        "### Task 2\n",
        "\n",
        "Create a function called `is_prime` that takes a number as a parameter, returns `True` if the number is prime, and `False` otherwise."
      ]
    },
    {
      "cell_type": "code",
      "execution_count": 9,
      "metadata": {
        "id": "kva_9ycA0cfN",
        "colab": {
          "base_uri": "https://localhost:8080/"
        },
        "outputId": "51376c87-17d7-4ca6-fc2e-48a3b0987786"
      },
      "outputs": [
        {
          "output_type": "stream",
          "name": "stdout",
          "text": [
            "Is 11 a prime? True\n",
            "Is 9 a prime? False\n"
          ]
        }
      ],
      "source": [
        "def is_prime(num):\n",
        "  if num < 2:\n",
        "    return False\n",
        "  for i in range(2, num):\n",
        "    if num % i == 0:\n",
        "      return False\n",
        "  else: return True\n",
        "\n",
        "\n",
        "\n",
        "print('Is 11 a prime?', is_prime(11))  # should be True\n",
        "print('Is 9 a prime?', is_prime(9))  # should be False"
      ]
    },
    {
      "cell_type": "markdown",
      "metadata": {
        "id": "IqjW7SGS0cfN"
      },
      "source": [
        "### Task 3\n",
        "\n",
        "Write a function called `find_primes` that takes two integers, `a` and `b`, and prints all the prime numbers between `a` and `b` (inclusive).\n",
        "\n",
        "You can use the function from the previous exercise."
      ]
    },
    {
      "cell_type": "code",
      "execution_count": 41,
      "metadata": {
        "id": "p83RQvA40cfN",
        "colab": {
          "base_uri": "https://localhost:8080/"
        },
        "outputId": "d51f3918-bee8-4348-bc2e-2157f8371ca9"
      },
      "outputs": [
        {
          "output_type": "stream",
          "name": "stdout",
          "text": [
            "2\n",
            "3\n",
            "5\n",
            "7\n",
            "11\n"
          ]
        }
      ],
      "source": [
        "def find_primes(first_value: int, second_value: int) -> int:\n",
        "  for num in range(first_value, second_value+1):\n",
        "    if num < 2:\n",
        "      continue\n",
        "    for i in range(2, num):\n",
        "      if num % i == 0:\n",
        "        break\n",
        "    else: print(num)\n",
        "\n",
        "\n",
        "\n",
        "find_primes(1, 11)  # should print 2 3 5 7 11"
      ]
    },
    {
      "cell_type": "code",
      "source": [],
      "metadata": {
        "id": "tKynk-cFY6Tb"
      },
      "execution_count": 41,
      "outputs": []
    },
    {
      "cell_type": "markdown",
      "source": [
        "### Task 4\n",
        "\n",
        "Write a function called `reverse_words` that takes a sentence as a parameter and prints the sentence with each word reversed, but the words are in the same order."
      ],
      "metadata": {
        "id": "fceBNTpUnip6"
      }
    },
    {
      "cell_type": "code",
      "source": [
        "def reverse_words(sentense):\n",
        "  sentense = input()\n",
        "  reverse = ''\n",
        "  sentense_reverse=[]\n",
        "  words = sentense.split()\n",
        "  for word in words:\n",
        "    reverse=(word[::-1])\n",
        "    sentense_reverse.append(reverse)\n",
        "  return(' '.join(sentense_reverse))\n",
        "\n",
        "reverse_words(\"kciuQ nworb xof spmuj revo a yzal god\")  # should print \"kciuQ nworb xof spmuj revo a yzal god\""
      ],
      "metadata": {
        "id": "VsoALrbBnsjs",
        "colab": {
          "base_uri": "https://localhost:8080/",
          "height": 53
        },
        "outputId": "8f939d63-1904-47b1-a5b1-85b3f5999f4a"
      },
      "execution_count": 27,
      "outputs": [
        {
          "name": "stdout",
          "output_type": "stream",
          "text": [
            "kciuQ nworb xof spmuj revo a yzal god\n"
          ]
        },
        {
          "output_type": "execute_result",
          "data": {
            "text/plain": [
              "'Quick brown fox jumps over a lazy dog'"
            ],
            "application/vnd.google.colaboratory.intrinsic+json": {
              "type": "string"
            }
          },
          "metadata": {},
          "execution_count": 27
        }
      ]
    }
  ],
  "metadata": {
    "kernelspec": {
      "display_name": "venv",
      "language": "python",
      "name": "python3"
    },
    "language_info": {
      "codemirror_mode": {
        "name": "ipython",
        "version": 3
      },
      "file_extension": ".py",
      "mimetype": "text/x-python",
      "name": "python",
      "nbconvert_exporter": "python",
      "pygments_lexer": "ipython3",
      "version": "3.9.6"
    },
    "orig_nbformat": 4,
    "colab": {
      "provenance": [],
      "include_colab_link": true
    }
  },
  "nbformat": 4,
  "nbformat_minor": 0
}